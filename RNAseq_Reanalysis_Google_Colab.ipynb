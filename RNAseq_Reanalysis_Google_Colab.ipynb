{
  "cells": [
    {
      "cell_type": "markdown",
      "metadata": {
        "id": "i2sjr_K_8coh"
      },
      "source": [
        "## **1) Install Miniconda**"
      ]
    },
    {
      "cell_type": "code",
      "execution_count": null,
      "metadata": {
        "colab": {
          "base_uri": "https://localhost:8080/"
        },
        "collapsed": true,
        "id": "RkhFDFRV7UfX",
        "outputId": "42016a3a-0218-49e8-959d-4e8255db8dc0"
      },
      "outputs": [],
      "source": [
        "!wget https://repo.anaconda.com/miniconda/Miniconda3-latest-Linux-x86_64.sh\n",
        "!chmod +x Miniconda3-latest-Linux-x86_64.sh\n",
        "!./Miniconda3-latest-Linux-x86_64.sh -b -f -p /usr/local"
      ]
    },
    {
      "cell_type": "code",
      "execution_count": 2,
      "metadata": {
        "colab": {
          "base_uri": "https://localhost:8080/"
        },
        "id": "Th0qeWAWHNbB",
        "outputId": "cfc65722-9e60-4d04-d31e-351ebbbb621f"
      },
      "outputs": [
        {
          "name": "stdout",
          "output_type": "stream",
          "text": [
            "conda 25.1.1\n"
          ]
        }
      ],
      "source": [
        "!conda --version"
      ]
    },
    {
      "cell_type": "markdown",
      "metadata": {
        "id": "MRwkSvD_9G0q"
      },
      "source": [
        "## **2) Update the environment variables to include Miniconda's bin directory**"
      ]
    },
    {
      "cell_type": "code",
      "execution_count": 3,
      "metadata": {
        "id": "B1bU-bn09J3w"
      },
      "outputs": [],
      "source": [
        "import os\n",
        "os.environ['PATH'] = '/usr/local/bin:' + os.environ['PATH']"
      ]
    },
    {
      "cell_type": "markdown",
      "metadata": {
        "id": "eWRQtiFb9OrB"
      },
      "source": [
        "## **3) Setup Conda Channels**"
      ]
    },
    {
      "cell_type": "code",
      "execution_count": 4,
      "metadata": {
        "id": "eIxNGjvL9R1A"
      },
      "outputs": [],
      "source": [
        "!conda config --add channels defaults\n",
        "!conda config --add channels bioconda\n",
        "!conda config --add channels conda-forge\n",
        "!conda config --set offline false"
      ]
    },
    {
      "cell_type": "code",
      "execution_count": 5,
      "metadata": {
        "colab": {
          "base_uri": "https://localhost:8080/"
        },
        "id": "xD7CzdDnImTD",
        "outputId": "8c140d1d-8b7a-4305-b93f-6f4c4df5342c"
      },
      "outputs": [
        {
          "name": "stdout",
          "output_type": "stream",
          "text": [
            "channels:\n",
            "  - conda-forge\n",
            "  - bioconda\n",
            "  - defaults\n",
            "  - https://repo.anaconda.com/pkgs/main\n",
            "  - https://repo.anaconda.com/pkgs/r\n"
          ]
        }
      ],
      "source": [
        "!conda config --show channels"
      ]
    },
    {
      "cell_type": "markdown",
      "metadata": {
        "id": "GI9Ywj7p9XWQ"
      },
      "source": [
        "## **4) Install Kallisto**"
      ]
    },
    {
      "cell_type": "code",
      "execution_count": null,
      "metadata": {
        "colab": {
          "base_uri": "https://localhost:8080/"
        },
        "collapsed": true,
        "id": "ZrElzYvg9anI",
        "outputId": "73bc189c-00af-44c2-8733-a60f818b1dc0"
      },
      "outputs": [],
      "source": [
        "!conda install -c bioconda kallisto -y"
      ]
    },
    {
      "cell_type": "code",
      "execution_count": 7,
      "metadata": {
        "colab": {
          "base_uri": "https://localhost:8080/"
        },
        "collapsed": true,
        "id": "APEsy77D9baI",
        "outputId": "f430d9b3-ee31-48b9-8b17-d96db7e6a07f"
      },
      "outputs": [
        {
          "name": "stdout",
          "output_type": "stream",
          "text": [
            "kallisto 0.46.2\n",
            "\n",
            "Usage: kallisto <CMD> [arguments] ..\n",
            "\n",
            "Where <CMD> can be one of:\n",
            "\n",
            "    index         Builds a kallisto index \n",
            "    quant         Runs the quantification algorithm \n",
            "    bus           Generate BUS files for single-cell data \n",
            "    pseudo        Runs the pseudoalignment step \n",
            "    merge         Merges several batch runs \n",
            "    h5dump        Converts HDF5-formatted results to plaintext\n",
            "    inspect       Inspects and gives information about an index\n",
            "    version       Prints version information\n",
            "    cite          Prints citation information\n",
            "\n",
            "Running kallisto <CMD> without arguments prints usage information for <CMD>\n",
            "\n"
          ]
        }
      ],
      "source": [
        "!kallisto"
      ]
    },
    {
      "cell_type": "markdown",
      "metadata": {
        "id": "0ip_Z65D96Ug"
      },
      "source": [
        "## **5) Import Datasets using FTP**"
      ]
    },
    {
      "cell_type": "code",
      "execution_count": null,
      "metadata": {
        "colab": {
          "base_uri": "https://localhost:8080/"
        },
        "collapsed": true,
        "id": "W-fXog4S-TVo",
        "outputId": "839b78d6-88c7-4fc7-f7b3-257f2be21832"
      },
      "outputs": [],
      "source": [
        "import os\n",
        "\n",
        "folderPath = '/content/RNAseq'\n",
        "\n",
        "if not os.path.exists(folderPath):\n",
        "    os.makedirs(folderPath)\n",
        "\n",
        "datasets = ['ftp://ftp.sra.ebi.ac.uk/vol1/fastq/SRR244/035/SRR24448335/SRR24448335.fastq.gz',\n",
        "            'ftp://ftp.sra.ebi.ac.uk/vol1/fastq/SRR244/036/SRR24448336/SRR24448336.fastq.gz',\n",
        "            'ftp://ftp.sra.ebi.ac.uk/vol1/fastq/SRR244/037/SRR24448337/SRR24448337.fastq.gz',\n",
        "            'ftp://ftp.sra.ebi.ac.uk/vol1/fastq/SRR244/038/SRR24448338/SRR24448338.fastq.gz',\n",
        "            'ftp://ftp.sra.ebi.ac.uk/vol1/fastq/SRR244/039/SRR24448339/SRR24448339.fastq.gz',\n",
        "            'ftp://ftp.sra.ebi.ac.uk/vol1/fastq/SRR244/040/SRR24448340/SRR24448340.fastq.gz',\n",
        "            'https://ftp.ensembl.org/pub/release-113/fasta/homo_sapiens/cdna/Homo_sapiens.GRCh38.cdna.all.fa.gz']\n",
        "\n",
        "# Loop through each URL and download the file\n",
        "for url in datasets:\n",
        "    # Get the filename from the URL\n",
        "    filename = url.split(\"/\")[-1]\n",
        "\n",
        "    # Download the file\n",
        "    !wget \"$url\" -P \"$folderPath\"\n",
        "\n",
        "    file_path = os.path.join(folderPath, filename)\n",
        "    if os.path.exists(file_path):\n",
        "        print(f\"Downloaded: {filename}\")\n",
        "    else:\n",
        "        print(f\"Failed to download: {filename}\")"
      ]
    },
    {
      "cell_type": "code",
      "execution_count": 12,
      "metadata": {
        "colab": {
          "base_uri": "https://localhost:8080/"
        },
        "id": "uprWDp9ga23m",
        "outputId": "7bd638cd-3ea8-40ee-97a7-223ecabfb107"
      },
      "outputs": [
        {
          "name": "stdout",
          "output_type": "stream",
          "text": [
            "Mon Apr 28 05:29:43 PM UTC 2025\n"
          ]
        }
      ],
      "source": [
        "!date"
      ]
    },
    {
      "cell_type": "markdown",
      "metadata": {
        "id": "7DvKBxg8MHjJ"
      },
      "source": [
        "## **6) Unzip Reference cDNA Human Genome**"
      ]
    },
    {
      "cell_type": "code",
      "execution_count": 14,
      "metadata": {
        "id": "fJB7v-Y7CaKA"
      },
      "outputs": [],
      "source": [
        "!gunzip \"/content/RNAseq/Homo_sapiens.GRCh38.cdna.all.fa.gz\""
      ]
    },
    {
      "cell_type": "markdown",
      "metadata": {
        "id": "yha5_aRUFkrg"
      },
      "source": [
        "## **7) Create Reference Index Using Kallisto**"
      ]
    },
    {
      "cell_type": "code",
      "execution_count": 27,
      "metadata": {
        "colab": {
          "base_uri": "https://localhost:8080/"
        },
        "collapsed": true,
        "id": "r6Cb1eX-GIvo",
        "outputId": "0dee70cf-c9e0-4806-b604-5eb66230d0f3"
      },
      "outputs": [
        {
          "name": "stdout",
          "output_type": "stream",
          "text": [
            "\n",
            "[build] loading fasta file /content/RNAseq/Homo_sapiens.GRCh38.cdna.all.fa\n",
            "[build] k-mer length: 31\n",
            "[build] warning: clipped off poly-A tail (longer than 10)\n",
            "        from 1517 target sequences\n",
            "[build] warning: replaced 100005 non-ACGUT characters in the input sequence\n",
            "        with pseudorandom nucleotides\n",
            "[build] counting k-mers ... done.\n",
            "[build] building target de Bruijn graph ...  done \n",
            "[build] creating equivalence classes ...  done\n",
            "[build] target de Bruijn graph has 1233731 contigs and contains 116708646 k-mers \n",
            "\n",
            "Index created: /content/RNAseq/Homo_sapiens.GRCh38.cdna.all.index\n"
          ]
        }
      ],
      "source": [
        "fasta_file = os.path.join(folderPath, \"Homo_sapiens.GRCh38.cdna.all.fa\")\n",
        "index_file = os.path.join(folderPath, \"Homo_sapiens.GRCh38.cdna.all.index\")\n",
        "\n",
        "!kallisto index -i {index_file} {fasta_file}\n",
        "print(f\"Index created: {index_file}\")\n"
      ]
    },
    {
      "cell_type": "markdown",
      "metadata": {
        "id": "dWdmdT6GSIeJ"
      },
      "source": [
        "## **8) Map Reads to Kallisto Index**"
      ]
    },
    {
      "cell_type": "code",
      "execution_count": null,
      "metadata": {
        "colab": {
          "base_uri": "https://localhost:8080/"
        },
        "id": "7Y1podGUMfoz",
        "outputId": "adbfe9fd-0620-4205-f486-0eb696d4c840"
      },
      "outputs": [],
      "source": [
        "cd RNAseq/"
      ]
    },
    {
      "cell_type": "code",
      "execution_count": 31,
      "metadata": {
        "id": "3YmAcyoocoMe"
      },
      "outputs": [],
      "source": [
        "mkdir kallisto"
      ]
    },
    {
      "cell_type": "code",
      "execution_count": null,
      "metadata": {
        "colab": {
          "base_uri": "https://localhost:8080/"
        },
        "collapsed": true,
        "id": "CwyBD598SNTw",
        "outputId": "21267c64-6a91-41f2-d26b-877fd031af06"
      },
      "outputs": [],
      "source": [
        "kallistoData = [['HS01', 'SRR24448340.fastq.gz'],\n",
        "                ['HS02', 'SRR24448339.fastq.gz'],\n",
        "                ['HS03', 'SRR24448338.fastq.gz'],\n",
        "                ['CD01', 'SRR24448337.fastq.gz'],\n",
        "                ['CD02', 'SRR24448336.fastq.gz'],\n",
        "                ['CD03', 'SRR24448335.fastq.gz']]\n",
        "\n",
        "for data in kallistoData:\n",
        "  folder = f\"kallisto/{data[0]}\"\n",
        "  fileloc = data[1]\n",
        "\n",
        "  !kallisto quant \\\n",
        "  -i {index_file} \\\n",
        "  -o \"$folder\" \\\n",
        "  -t 2 \\\n",
        "  --single -l 250 -s 30 \\\n",
        "  \"$fileloc\""
      ]
    },
    {
      "cell_type": "markdown",
      "metadata": {
        "id": "lj23xg4TLafS"
      },
      "source": [
        "## **9) Zip & download kallisto Folder**"
      ]
    },
    {
      "cell_type": "code",
      "execution_count": null,
      "metadata": {
        "colab": {
          "base_uri": "https://localhost:8080/",
          "height": 451
        },
        "id": "hxder_Dbb9s9",
        "outputId": "c1b8340c-33ff-4bee-a3cd-b1b19c11880b"
      },
      "outputs": [],
      "source": [
        "!zip -r kallisto.zip kallisto\n",
        "\n",
        "from google.colab import files\n",
        "files.download(\"kallisto.zip\")"
      ]
    }
  ],
  "metadata": {
    "colab": {
      "provenance": []
    },
    "kernelspec": {
      "display_name": "Python 3",
      "name": "python3"
    },
    "language_info": {
      "name": "python"
    }
  },
  "nbformat": 4,
  "nbformat_minor": 0
}
